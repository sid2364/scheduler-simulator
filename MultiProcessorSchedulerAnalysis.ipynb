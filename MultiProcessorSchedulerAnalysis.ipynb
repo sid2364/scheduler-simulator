{
 "cells": [
  {
   "cell_type": "code",
   "execution_count": 1,
   "metadata": {},
   "outputs": [],
   "source": [
    "# !pip install matplotlib tqdm numpy"
   ]
  },
  {
   "cell_type": "code",
   "execution_count": 2,
   "metadata": {},
   "outputs": [],
   "source": [
    "import argparse\n",
    "from pathlib import Path\n",
    "import multiprocessing\n",
    "from time import time\n",
    "from collections import defaultdict\n",
    "\n",
    "import matplotlib.pyplot as plt\n",
    "import matplotlib.colors as mcolors\n",
    "from tqdm import tqdm\n",
    "from multiprocessor.scheduler import MultiprocessorSchedulerType\n",
    "\n",
    "# self-written modules\n",
    "from utils.metrics import MultiprocessorFeasibility, calculate_success_rate\n",
    "from utils.plotters import plot_feasibility_ratio, plot_success_rate\n",
    "from utils.parse import parse_task_file\n",
    "from multiprocessor.feasibility.review import review_task_sets_in_parallel_multi"
   ]
  },
  {
   "cell_type": "code",
   "execution_count": 3,
   "metadata": {},
   "outputs": [],
   "source": [
    "# calculate feasibility ratio by parameter\n",
    "def calculate_feasibility_ratio(schedule_stats):\n",
    "    feasible = schedule_stats.get(MultiprocessorFeasibility.FEASIBLE_SHORTCUT, 0) + \\\n",
    "               schedule_stats.get(MultiprocessorFeasibility.FEASIBLE_SIMULATION, 0)\n",
    "    total = feasible + schedule_stats.get(MultiprocessorFeasibility.NOT_SCHEDULABLE_BY_A_SHORTCUT, 0) + \\\n",
    "            schedule_stats.get(MultiprocessorFeasibility.NOT_SCHEDULABLE_BY_A_SIMULATION, 0)\n",
    "    if total == 0:\n",
    "        return 0\n",
    "    return feasible / total * 1.0"
   ]
  },
  {
   "cell_type": "code",
   "execution_count": 4,
   "metadata": {},
   "outputs": [],
   "source": [
    "# process task sets for Plot 1 and 2 (by number of tasks)\n",
    "def average_execution_time(algorithms, folder_name):\n",
    "    \"\"\"\n",
    "    Process task sets organized by number of tasks (like in 4-tasks, 10-tasks).\n",
    "    \"\"\"\n",
    "    subfolders = sorted([f for f in Path(folder_name).iterdir() if f.is_dir()], key=lambda x: int(x.name.split('-')[0]))\n",
    "    success_rates = {alg.name: {} for alg in algorithms}\n",
    "\n",
    "    workers = range(1, 33)\n",
    "\n",
    "    for worker_quantity in workers:\n",
    "        for subfolder in subfolders:\n",
    "            print(f\"Subfolder: {subfolder}\")\n",
    "            num_tasks = 100\n",
    "            print(f\"\\nProcessing {num_tasks} tasks in {subfolder}\")\n",
    "            for alg in algorithms:\n",
    "                print(f\"Evaluating algorithm: {alg}\")\n",
    "                schedule_stats = review_task_sets_in_parallel_multi(\n",
    "                    algorithm=alg, \n",
    "                    folder_name=subfolder,\n",
    "                    num_processors=8, \n",
    "                    number_of_workers=worker_quantity,\n",
    "                    num_clusters=4,\n",
    "                    heuristic=\"ff\"\n",
    "                )\n",
    "                success_rate = calculate_success_rate(schedule_stats)\n",
    "                success_rates[alg.name][num_tasks] = success_rate\n",
    "\n",
    "    return success_rates"
   ]
  },
  {
   "cell_type": "code",
   "execution_count": null,
   "metadata": {},
   "outputs": [
    {
     "name": "stdout",
     "output_type": "stream",
     "text": [
      "Subfolder: tasksets-multiprocessor/1\n",
      "\n",
      "Processing 100 tasks in tasksets-multiprocessor/1\n",
      "Evaluating algorithm: MultiprocessorSchedulerType.GLOBAL_EDF\n",
      "Checking task set: tasksets-multiprocessor/1/taskset-46\n",
      "The task set tasksets-multiprocessor/1/taskset-46 is not schedulable because a necessary condition does not hold.\n",
      "Checking task set: tasksets-multiprocessor/1/taskset-91\n"
     ]
    },
    {
     "name": "stdout",
     "output_type": "stream",
     "text": [
      "You can not tell if the task set tasksets-multiprocessor/1/taskset-91 is schedulable or not.\n",
      "Checking task set: tasksets-multiprocessor/1/taskset-85\n",
      "The task set tasksets-multiprocessor/1/taskset-85 is not schedulable because a necessary condition does not hold.\n",
      "Checking task set: tasksets-multiprocessor/1/taskset-2\n",
      "The task set tasksets-multiprocessor/1/taskset-2 is not schedulable and you had to simulate the execution.\n",
      "Checking task set: tasksets-multiprocessor/1/taskset-22\n",
      "The task set tasksets-multiprocessor/1/taskset-22 is not schedulable because a necessary condition does not hold.\n",
      "Checking task set: tasksets-multiprocessor/1/taskset-50\n"
     ]
    }
   ],
   "source": [
    "algorithms_to_evaluate = [MultiprocessorSchedulerType.PARTITIONED_EDF, MultiprocessorSchedulerType.GLOBAL_EDF, MultiprocessorSchedulerType.EDF_K]\n",
    "\n",
    "average_execution_time(algorithms=algorithms_to_evaluate, folder_name=\"tasksets-multiprocessor\")\n"
   ]
  }
 ],
 "metadata": {
  "kernelspec": {
   "display_name": ".venv",
   "language": "python",
   "name": "python3"
  },
  "language_info": {
   "codemirror_mode": {
    "name": "ipython",
    "version": 3
   },
   "file_extension": ".py",
   "mimetype": "text/x-python",
   "name": "python",
   "nbconvert_exporter": "python",
   "pygments_lexer": "ipython3",
   "version": "3.12.3"
  }
 },
 "nbformat": 4,
 "nbformat_minor": 2
}
