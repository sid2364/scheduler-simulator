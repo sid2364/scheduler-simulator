{
 "cells": [
  {
   "cell_type": "code",
   "execution_count": null,
   "metadata": {},
   "outputs": [],
   "source": [
    "# !pip install matplotlib tqdm numpy"
   ]
  },
  {
   "cell_type": "code",
   "execution_count": null,
   "metadata": {},
   "outputs": [],
   "source": [
    "import argparse\n",
    "from pathlib import Path\n",
    "import multiprocessing\n",
    "from time import time\n",
    "from collections import defaultdict\n",
    "\n",
    "import matplotlib.pyplot as plt\n",
    "import matplotlib.colors as mcolors\n",
    "from tqdm import tqdm\n",
    "from multiprocessor.scheduler import MultiprocessorSchedulerType\n",
    "from multiprocessor.partitioner import FirstFit, NextFit, BestFit, WorstFit\n",
    "\n",
    "# self-written modules\n",
    "from utils.metrics import MultiprocessorFeasibility, calculate_success_rate\n",
    "from utils.plotters import plot_average_execution_time\n",
    "from utils.parse import parse_task_file\n",
    "from multiprocessor.feasibility.review import review_task_sets_in_parallel_multi\n",
    "\n",
    "import numpy as np\n"
   ]
  },
  {
   "cell_type": "code",
   "execution_count": null,
   "metadata": {},
   "outputs": [],
   "source": [
    "# calculate feasibility ratio by parameter\n",
    "def calculate_feasibility_ratio(schedule_stats):\n",
    "    feasible = schedule_stats.get(MultiprocessorFeasibility.FEASIBLE_SHORTCUT, 0) + \\\n",
    "               schedule_stats.get(MultiprocessorFeasibility.FEASIBLE_SIMULATION, 0)\n",
    "    total = feasible + schedule_stats.get(MultiprocessorFeasibility.NOT_SCHEDULABLE_BY_A_SHORTCUT, 0) + \\\n",
    "            schedule_stats.get(MultiprocessorFeasibility.NOT_SCHEDULABLE_BY_A_SIMULATION, 0)\n",
    "    if total == 0:\n",
    "        return 0\n",
    "    return feasible / total * 1.0"
   ]
  },
  {
   "cell_type": "code",
   "execution_count": null,
   "metadata": {},
   "outputs": [],
   "source": [
    "# process task sets for Plot 1 and 2 (by number of tasks)\n",
    "\n",
    "def average_execution_time_by_workers(config, folder_name):\n",
    "    \"\"\"\n",
    "    Process task sets organized by number of tasks (like in 4-tasks, 10-tasks).\n",
    "    \"\"\"\n",
    "    subfolders = sorted([f for f in Path(folder_name).iterdir() if f.is_dir()], key=lambda x: int(x.name))\n",
    "    execution_times = []\n",
    "\n",
    "    workers = config[\"number_of_workers\"]\n",
    "\n",
    "    for worker_quantity in workers:\n",
    "        start_time = time()\n",
    "\n",
    "        print(f\"Executing with: {worker_quantity} workers.\")\n",
    "        for subfolder in subfolders:\n",
    "            print(f\"Subfolder: {subfolder}\")\n",
    "            num_tasks = 100\n",
    "            print(f\"\\nProcessing {num_tasks} tasks in {subfolder}\")\n",
    "            print(f\"Evaluating algorithm: {config[\"alg\"].name}\")\n",
    "            schedule_stats = review_task_sets_in_parallel_multi(algorithm=config[\"alg\"],\n",
    "                                                            folder_name=subfolder,\n",
    "                                                            num_processors=config[\"processors\"],\n",
    "                                                            num_clusters=config[\"clusters\"],\n",
    "                                                            heuristic=config[\"heuristic\"],\n",
    "                                                            number_of_workers=worker_quantity)\n",
    "            # success_rate = calculate_success_rate(schedule_stats) #TODO execution time\n",
    "            # execution_times[num_tasks] = success_rate\n",
    "        end_time = time() - start_time\n",
    "\n",
    "        execution_times.append(\n",
    "            {\n",
    "                \"workers\": worker_quantity,\n",
    "                \"time\": end_time\n",
    "            }\n",
    "        )\n",
    "\n",
    "    return execution_times"
   ]
  },
  {
   "cell_type": "code",
   "execution_count": null,
   "metadata": {
    "scrolled": true
   },
   "outputs": [],
   "source": [
    "def get_workers_range(from_val, to_val):\n",
    "    return list(range(from_val, to_val + 1))\n",
    "\n",
    "config_to_evaluate = {\n",
    "        \"alg\": MultiprocessorSchedulerType.PARTITIONED_EDF,\n",
    "        \"heuristic\": BestFit(decreasing_utilisation=True, verbose=False),\n",
    "        \"sorting\": 'du',\n",
    "        \"processors\": 8,\n",
    "        \"clusters\": 4,\n",
    "        \"number_of_workers\": get_workers_range(1, 20)\n",
    "    }\n",
    "# python3 main.py tasksets-multiprocessor 8 partitioned -H bf -s du\n",
    "\n",
    "results = average_execution_time_by_workers(config=config_to_evaluate, folder_name=\"tasksets-multiprocessor/4\")\n"
   ]
  },
  {
   "cell_type": "code",
   "execution_count": null,
   "metadata": {},
   "outputs": [],
   "source": [
    "for result in results:\n",
    "    print(f\"Time taken for {result[\"workers\"]} workers: {result[\"time\"]}\")\n",
    "\n",
    "workers = [result[\"workers\"] for result in results]\n",
    "times = [result[\"time\"] for result in results]\n",
    "\n",
    "plt.figure(figsize=(12, 6))\n",
    "plt.bar(workers, times, color='teal', width=0.6)\n",
    "plt.xlabel('Number of Workers')\n",
    "plt.ylabel('Time Taken (seconds)')\n",
    "plt.title('Time Taken vs Number of Workers')\n",
    "plt.xticks(workers)\n",
    "plt.grid(axis='y', linestyle='--', alpha=0.7)\n",
    "plt.show()"
   ]
  }
 ],
 "metadata": {
  "kernelspec": {
   "display_name": "Python (Learning Dynamics Env)",
   "language": "python",
   "name": "learning_dynamics_env"
  },
  "language_info": {
   "codemirror_mode": {
    "name": "ipython",
    "version": 3
   },
   "file_extension": ".py",
   "mimetype": "text/x-python",
   "name": "python",
   "nbconvert_exporter": "python",
   "pygments_lexer": "ipython3",
   "version": "3.12.3"
  }
 },
 "nbformat": 4,
 "nbformat_minor": 4
}
