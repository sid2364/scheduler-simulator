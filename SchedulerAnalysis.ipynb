{
 "cells": [
  {
   "cell_type": "code",
   "execution_count": 1,
   "id": "fb63221b-b6a1-41a5-9916-33953a8b7625",
   "metadata": {},
   "outputs": [
    {
     "name": "stdout",
     "output_type": "stream",
     "text": [
      "Requirement already satisfied: matplotlib in /home/sid/Study/brainybytes/Learning_Dynamics/learning_dynamics_env/lib/python3.12/site-packages (3.9.2)\n",
      "Requirement already satisfied: tqdm in /home/sid/Study/brainybytes/Learning_Dynamics/learning_dynamics_env/lib/python3.12/site-packages (4.66.5)\n",
      "Requirement already satisfied: contourpy>=1.0.1 in /home/sid/Study/brainybytes/Learning_Dynamics/learning_dynamics_env/lib/python3.12/site-packages (from matplotlib) (1.3.0)\n",
      "Requirement already satisfied: cycler>=0.10 in /home/sid/Study/brainybytes/Learning_Dynamics/learning_dynamics_env/lib/python3.12/site-packages (from matplotlib) (0.12.1)\n",
      "Requirement already satisfied: fonttools>=4.22.0 in /home/sid/Study/brainybytes/Learning_Dynamics/learning_dynamics_env/lib/python3.12/site-packages (from matplotlib) (4.54.1)\n",
      "Requirement already satisfied: kiwisolver>=1.3.1 in /home/sid/Study/brainybytes/Learning_Dynamics/learning_dynamics_env/lib/python3.12/site-packages (from matplotlib) (1.4.7)\n",
      "Requirement already satisfied: numpy>=1.23 in /home/sid/Study/brainybytes/Learning_Dynamics/learning_dynamics_env/lib/python3.12/site-packages (from matplotlib) (2.1.2)\n",
      "Requirement already satisfied: packaging>=20.0 in /home/sid/Study/brainybytes/Learning_Dynamics/learning_dynamics_env/lib/python3.12/site-packages (from matplotlib) (24.1)\n",
      "Requirement already satisfied: pillow>=8 in /home/sid/Study/brainybytes/Learning_Dynamics/learning_dynamics_env/lib/python3.12/site-packages (from matplotlib) (10.4.0)\n",
      "Requirement already satisfied: pyparsing>=2.3.1 in /home/sid/Study/brainybytes/Learning_Dynamics/learning_dynamics_env/lib/python3.12/site-packages (from matplotlib) (3.1.4)\n",
      "Requirement already satisfied: python-dateutil>=2.7 in /home/sid/Study/brainybytes/Learning_Dynamics/learning_dynamics_env/lib/python3.12/site-packages (from matplotlib) (2.9.0.post0)\n",
      "Requirement already satisfied: six>=1.5 in /home/sid/Study/brainybytes/Learning_Dynamics/learning_dynamics_env/lib/python3.12/site-packages (from python-dateutil>=2.7->matplotlib) (1.16.0)\n"
     ]
    }
   ],
   "source": [
    "!pip install matplotlib tqdm"
   ]
  },
  {
   "cell_type": "code",
   "execution_count": 2,
   "id": "eab7a2aa-e898-4736-ba23-e688c48e606c",
   "metadata": {},
   "outputs": [],
   "source": [
    "import argparse\n",
    "from pathlib import Path\n",
    "import multiprocessing\n",
    "from time import time\n",
    "from collections import defaultdict\n",
    "\n",
    "import matplotlib.pyplot as plt\n",
    "import matplotlib.colors as mcolors\n",
    "from tqdm import tqdm\n",
    "\n",
    "# self-written modules\n",
    "from helpers import (\n",
    "    pie_plot_categories, Feasibility, calculate_success_rate, plot_success_rate,\n",
    "    plot_feasibility_ratio_by_tasks, plot_success_rate_by_tasks,\n",
    "    plot_feasibility_ratio_by_utilization, plot_success_rate_by_utilization\n",
    ")\n",
    "from algorithms import RateMonotonic, DeadlineMonotonic, Audsley, EarliestDeadlineFirst, RoundRobin\n",
    "from parse_tasks import parse_task_file\n",
    "from main import review_task_sets_in_parallel"
   ]
  },
  {
   "cell_type": "code",
   "execution_count": 3,
   "id": "2bcf177c-facc-499a-bd73-fa6319f25646",
   "metadata": {},
   "outputs": [],
   "source": [
    "# Calculate feasibility ratio by parameter\n",
    "def calculate_feasibility_ratio(schedule_stats):\n",
    "    feasible = schedule_stats.get(Feasibility.FEASIBLE_SHORTCUT, 0) + \\\n",
    "               schedule_stats.get(Feasibility.FEASIBLE_SIMULATION, 0)\n",
    "    total = feasible + schedule_stats.get(Feasibility.NOT_SCHEDULABLE_BY_A_SHORTCUT, 0) + \\\n",
    "            schedule_stats.get(Feasibility.NOT_SCHEDULABLE_BY_A_SIMULATION, 0)\n",
    "    if total == 0:\n",
    "        return 0\n",
    "    return feasible / total * 1.0"
   ]
  },
  {
   "cell_type": "code",
   "execution_count": 4,
   "id": "a7a7f976-e117-4419-a291-a02941cdc7d8",
   "metadata": {},
   "outputs": [],
   "source": [
    "# process task sets for Plot 1 and 2 (by number of tasks)\n",
    "def process_by_tasks(algorithms, folder_name, verbose, force_simulation):\n",
    "    \"\"\"\n",
    "    Process task sets organized by number of tasks (e.g., in 80-percent/).\n",
    "\n",
    "    Returns:\n",
    "    - feasibility_ratios: dict with number of tasks as keys and feasibility ratios as values.\n",
    "    - success_rates: dict with algorithm names as keys and dicts of task numbers to success rates as values.\n",
    "    \"\"\"\n",
    "    subfolders = sorted([f for f in Path(folder_name).iterdir() if f.is_dir()], key=lambda x: int(x.name.split('-')[0]))\n",
    "    feasibility_ratios = {}\n",
    "    success_rates = {alg.upper(): {} for alg in algorithms}\n",
    "\n",
    "    for subfolder in subfolders:\n",
    "        num_tasks = int(subfolder.name.split('-')[0])  # e.g., '10-tasks/' -> 10\n",
    "        print(f\"\\nProcessing {num_tasks} tasks in {subfolder}\")\n",
    "\n",
    "        # Calculate feasibility ratio using optimal scheduler (EDF)\n",
    "        schedule_stats_optimal = review_task_sets_in_parallel(\"edf\", subfolder, verbose, force_simulation)\n",
    "        feasible_ratio = calculate_feasibility_ratio(schedule_stats_optimal)\n",
    "        feasibility_ratios[num_tasks] = feasible_ratio\n",
    "\n",
    "        # Now, calculate success rates for each algorithm\n",
    "        for alg in algorithms:\n",
    "            print(f\"Evaluating algorithm: {alg}\")\n",
    "            schedule_stats = review_task_sets_in_parallel(alg, subfolder, verbose, force_simulation)\n",
    "            success_rate = calculate_success_rate(schedule_stats)\n",
    "            success_rates[alg.upper()][num_tasks] = success_rate\n",
    "\n",
    "    return feasibility_ratios, success_rates"
   ]
  },
  {
   "cell_type": "code",
   "execution_count": 5,
   "id": "4c9fe570-41e7-4568-80b4-b608d82e1eb9",
   "metadata": {},
   "outputs": [],
   "source": [
    "# process task sets for Plot 3 and 4 (by utilization)\n",
    "def process_by_utilization(algorithms, folder_name, verbose, force_simulation):\n",
    "    \"\"\"\n",
    "    Process task sets organized by utilization (e.g., in 10-tasks/).\n",
    "\n",
    "    Returns:\n",
    "    - feasibility_ratios: dict with utilization levels as keys and feasibility ratios as values.\n",
    "    - success_rates: dict with algorithm names as keys and dicts of utilizations to success rates as values.\n",
    "    \"\"\"\n",
    "    subfolders = sorted([f for f in Path(folder_name).iterdir() if f.is_dir()], key=lambda x: int(x.name.split('-')[0]))\n",
    "    feasibility_ratios = {}\n",
    "    success_rates = {alg.upper(): {} for alg in algorithms}\n",
    "\n",
    "    for subfolder in subfolders:\n",
    "        utilization = int(subfolder.name.split('-')[0])  # e.g., '10-percent/' -> 10\n",
    "        print(f\"\\nProcessing {utilization}% utilization in {subfolder}\")\n",
    "\n",
    "        # Calculate feasibility ratio using optimal scheduler (EDF)\n",
    "        schedule_stats_optimal = review_task_sets_in_parallel(\"edf\", subfolder, verbose, force_simulation)\n",
    "        feasible_ratio = calculate_feasibility_ratio(schedule_stats_optimal)\n",
    "        feasibility_ratios[utilization] = feasible_ratio\n",
    "\n",
    "        # Now, calculate success rates for each algorithm\n",
    "        for alg in algorithms:\n",
    "            print(f\"Evaluating algorithm: {alg}\")\n",
    "            schedule_stats = review_task_sets_in_parallel(alg, subfolder, verbose, force_simulation)\n",
    "            success_rate = calculate_success_rate(schedule_stats)\n",
    "            success_rates[alg.upper()][utilization] = success_rate\n",
    "\n",
    "    return feasibility_ratios, success_rates\n"
   ]
  },
  {
   "cell_type": "code",
   "execution_count": 6,
   "id": "cff092ee-3a7f-4c36-b72f-61d3793071cb",
   "metadata": {},
   "outputs": [],
   "source": [
    "# Main function to do the analysis\n",
    "def analyze_scheduling_algorithms(algorithms, task_set_type, verbose=False, force_simulation=False):\n",
    "    start_time = time()\n",
    "\n",
    "    if task_set_type == 'by_tasks':\n",
    "        folder_name = \"tasksets/80-percent/\"\n",
    "        feasibility_ratios, success_rates = process_by_tasks(algorithms, folder_name, verbose, force_simulation)\n",
    "\n",
    "        # Plot 1: Ratio of task sets that are feasible according to the number of tasks\n",
    "        plot_feasibility_ratio_by_tasks(\n",
    "            feasibility_ratios,\n",
    "            utilization=80,\n",
    "            plot_title=\"Feasibility Ratio by Number of Tasks at 80% Utilization\"\n",
    "        )\n",
    "\n",
    "        # Plot 2: Success rate of each algorithm according to the number of tasks\n",
    "        plot_success_rate_by_tasks(\n",
    "            success_rates,\n",
    "            utilization=80,\n",
    "            plot_title=\"Success Rate by Number of Tasks at 80% Utilization\"\n",
    "        )\n",
    "\n",
    "    elif task_set_type == 'by_utilization':\n",
    "        folder_name = \"tasksets/10-tasks/\"\n",
    "        feasibility_ratios, success_rates = process_by_utilization(algorithms, folder_name, verbose, force_simulation)\n",
    "\n",
    "        # Plot 3: Ratio of task sets that are feasible according to the utilization\n",
    "        plot_feasibility_ratio_by_utilization(\n",
    "            feasibility_ratios,\n",
    "            num_tasks=10,\n",
    "            plot_title=\"Feasibility Ratio by Utilization for 10 Tasks\"\n",
    "        )\n",
    "\n",
    "        # Plot 4: Success rate of each algorithm according to the utilization\n",
    "        plot_success_rate_by_utilization(\n",
    "            success_rates,\n",
    "            num_tasks=10,\n",
    "            plot_title=\"Success Rate by Utilization for 10 Tasks\"\n",
    "        )\n",
    "\n",
    "    print(f\"\\nTime taken: {int(time() - start_time)} seconds\")\n"
   ]
  },
  {
   "cell_type": "code",
   "execution_count": 7,
   "id": "5d7b274a-e820-49f1-92ff-00cbb1adb641",
   "metadata": {},
   "outputs": [
    {
     "name": "stdout",
     "output_type": "stream",
     "text": [
      "\n",
      "Processing 4 tasks in tasksets/80-percent/4-tasks\n",
      "Total files considered: 500 out of 500\n",
      "Evaluating algorithm: rm\n",
      "Total files considered: 500 out of 500\n",
      "Evaluating algorithm: dm\n"
     ]
    },
    {
     "ename": "KeyboardInterrupt",
     "evalue": "",
     "output_type": "error",
     "traceback": [
      "\u001b[0;31m---------------------------------------------------------------------------\u001b[0m",
      "\u001b[0;31mKeyboardInterrupt\u001b[0m                         Traceback (most recent call last)",
      "Cell \u001b[0;32mIn[7], line 7\u001b[0m\n\u001b[1;32m      3\u001b[0m \u001b[38;5;66;03m# 'by_tasks' or 'by_utilization'\u001b[39;00m\n\u001b[1;32m      4\u001b[0m \u001b[38;5;66;03m# task_set_type_choice = 'by_utilization'\u001b[39;00m\n\u001b[1;32m      5\u001b[0m task_set_type_choice \u001b[38;5;241m=\u001b[39m \u001b[38;5;124m'\u001b[39m\u001b[38;5;124mby_tasks\u001b[39m\u001b[38;5;124m'\u001b[39m\n\u001b[0;32m----> 7\u001b[0m \u001b[43manalyze_scheduling_algorithms\u001b[49m\u001b[43m(\u001b[49m\n\u001b[1;32m      8\u001b[0m \u001b[43m    \u001b[49m\u001b[43malgorithms\u001b[49m\u001b[38;5;241;43m=\u001b[39;49m\u001b[43malgorithms_to_evaluate\u001b[49m\u001b[43m,\u001b[49m\n\u001b[1;32m      9\u001b[0m \u001b[43m    \u001b[49m\u001b[43mtask_set_type\u001b[49m\u001b[38;5;241;43m=\u001b[39;49m\u001b[43mtask_set_type_choice\u001b[49m\u001b[43m,\u001b[49m\n\u001b[1;32m     10\u001b[0m \u001b[43m    \u001b[49m\u001b[43mverbose\u001b[49m\u001b[38;5;241;43m=\u001b[39;49m\u001b[38;5;28;43;01mFalse\u001b[39;49;00m\u001b[43m,\u001b[49m\n\u001b[1;32m     11\u001b[0m \u001b[43m    \u001b[49m\u001b[43mforce_simulation\u001b[49m\u001b[38;5;241;43m=\u001b[39;49m\u001b[38;5;28;43;01mFalse\u001b[39;49;00m\n\u001b[1;32m     12\u001b[0m \u001b[43m)\u001b[49m\n",
      "Cell \u001b[0;32mIn[6], line 7\u001b[0m, in \u001b[0;36manalyze_scheduling_algorithms\u001b[0;34m(algorithms, task_set_type, verbose, force_simulation)\u001b[0m\n\u001b[1;32m      5\u001b[0m \u001b[38;5;28;01mif\u001b[39;00m task_set_type \u001b[38;5;241m==\u001b[39m \u001b[38;5;124m'\u001b[39m\u001b[38;5;124mby_tasks\u001b[39m\u001b[38;5;124m'\u001b[39m:\n\u001b[1;32m      6\u001b[0m     folder_name \u001b[38;5;241m=\u001b[39m \u001b[38;5;124m\"\u001b[39m\u001b[38;5;124mtasksets/80-percent/\u001b[39m\u001b[38;5;124m\"\u001b[39m\n\u001b[0;32m----> 7\u001b[0m     feasibility_ratios, success_rates \u001b[38;5;241m=\u001b[39m \u001b[43mprocess_by_tasks\u001b[49m\u001b[43m(\u001b[49m\u001b[43malgorithms\u001b[49m\u001b[43m,\u001b[49m\u001b[43m \u001b[49m\u001b[43mfolder_name\u001b[49m\u001b[43m,\u001b[49m\u001b[43m \u001b[49m\u001b[43mverbose\u001b[49m\u001b[43m,\u001b[49m\u001b[43m \u001b[49m\u001b[43mforce_simulation\u001b[49m\u001b[43m)\u001b[49m\n\u001b[1;32m      9\u001b[0m     \u001b[38;5;66;03m# Plot 1: Ratio of task sets that are feasible according to the number of tasks\u001b[39;00m\n\u001b[1;32m     10\u001b[0m     plot_feasibility_ratio_by_tasks(\n\u001b[1;32m     11\u001b[0m         feasibility_ratios,\n\u001b[1;32m     12\u001b[0m         utilization\u001b[38;5;241m=\u001b[39m\u001b[38;5;241m80\u001b[39m,\n\u001b[1;32m     13\u001b[0m         plot_title\u001b[38;5;241m=\u001b[39m\u001b[38;5;124m\"\u001b[39m\u001b[38;5;124mFeasibility Ratio by Number of Tasks at 80\u001b[39m\u001b[38;5;124m%\u001b[39m\u001b[38;5;124m Utilization\u001b[39m\u001b[38;5;124m\"\u001b[39m\n\u001b[1;32m     14\u001b[0m     )\n",
      "Cell \u001b[0;32mIn[4], line 26\u001b[0m, in \u001b[0;36mprocess_by_tasks\u001b[0;34m(algorithms, folder_name, verbose, force_simulation)\u001b[0m\n\u001b[1;32m     24\u001b[0m \u001b[38;5;28;01mfor\u001b[39;00m alg \u001b[38;5;129;01min\u001b[39;00m algorithms:\n\u001b[1;32m     25\u001b[0m     \u001b[38;5;28mprint\u001b[39m(\u001b[38;5;124mf\u001b[39m\u001b[38;5;124m\"\u001b[39m\u001b[38;5;124mEvaluating algorithm: \u001b[39m\u001b[38;5;132;01m{\u001b[39;00malg\u001b[38;5;132;01m}\u001b[39;00m\u001b[38;5;124m\"\u001b[39m)\n\u001b[0;32m---> 26\u001b[0m     schedule_stats \u001b[38;5;241m=\u001b[39m \u001b[43mreview_task_sets_in_parallel\u001b[49m\u001b[43m(\u001b[49m\u001b[43malg\u001b[49m\u001b[43m,\u001b[49m\u001b[43m \u001b[49m\u001b[43msubfolder\u001b[49m\u001b[43m,\u001b[49m\u001b[43m \u001b[49m\u001b[43mverbose\u001b[49m\u001b[43m,\u001b[49m\u001b[43m \u001b[49m\u001b[43mforce_simulation\u001b[49m\u001b[43m)\u001b[49m\n\u001b[1;32m     27\u001b[0m     success_rate \u001b[38;5;241m=\u001b[39m calculate_success_rate(schedule_stats)\n\u001b[1;32m     28\u001b[0m     success_rates[alg\u001b[38;5;241m.\u001b[39mupper()][num_tasks] \u001b[38;5;241m=\u001b[39m success_rate\n",
      "File \u001b[0;32m~/Study/scheduler-simulator/main.py:100\u001b[0m, in \u001b[0;36mreview_task_sets_in_parallel\u001b[0;34m(algorithm, folder_name, verbose, timeout, force_simulation)\u001b[0m\n\u001b[1;32m     95\u001b[0m     results \u001b[38;5;241m=\u001b[39m [(task_set[\u001b[38;5;241m0\u001b[39m], \u001b[38;5;66;03m# TaskSet\u001b[39;00m\n\u001b[1;32m     96\u001b[0m                 task_set[\u001b[38;5;241m1\u001b[39m], \u001b[38;5;66;03m# Path\u001b[39;00m\n\u001b[1;32m     97\u001b[0m                 pool\u001b[38;5;241m.\u001b[39mapply_async(review_task_set, args\u001b[38;5;241m=\u001b[39m(algorithm, task_set[\u001b[38;5;241m0\u001b[39m], verbose, force_simulation, task_set[\u001b[38;5;241m1\u001b[39m]))) \u001b[38;5;66;03m# Scheduler result\u001b[39;00m\n\u001b[1;32m     98\u001b[0m                \u001b[38;5;28;01mfor\u001b[39;00m task_set \u001b[38;5;129;01min\u001b[39;00m tasks]\n\u001b[1;32m     99\u001b[0m     pool\u001b[38;5;241m.\u001b[39mclose()\n\u001b[0;32m--> 100\u001b[0m     \u001b[43mpool\u001b[49m\u001b[38;5;241;43m.\u001b[39;49m\u001b[43mjoin\u001b[49m\u001b[43m(\u001b[49m\u001b[43m)\u001b[49m\n\u001b[1;32m    102\u001b[0m \u001b[38;5;66;03m# Count the results\u001b[39;00m\n\u001b[1;32m    103\u001b[0m total_files \u001b[38;5;241m=\u001b[39m \u001b[38;5;28mlen\u001b[39m(tasks)\n",
      "File \u001b[0;32m/usr/lib/python3.12/multiprocessing/pool.py:665\u001b[0m, in \u001b[0;36mPool.join\u001b[0;34m(self)\u001b[0m\n\u001b[1;32m    663\u001b[0m \u001b[38;5;28;01melif\u001b[39;00m \u001b[38;5;28mself\u001b[39m\u001b[38;5;241m.\u001b[39m_state \u001b[38;5;129;01mnot\u001b[39;00m \u001b[38;5;129;01min\u001b[39;00m (CLOSE, TERMINATE):\n\u001b[1;32m    664\u001b[0m     \u001b[38;5;28;01mraise\u001b[39;00m \u001b[38;5;167;01mValueError\u001b[39;00m(\u001b[38;5;124m\"\u001b[39m\u001b[38;5;124mIn unknown state\u001b[39m\u001b[38;5;124m\"\u001b[39m)\n\u001b[0;32m--> 665\u001b[0m \u001b[38;5;28;43mself\u001b[39;49m\u001b[38;5;241;43m.\u001b[39;49m\u001b[43m_worker_handler\u001b[49m\u001b[38;5;241;43m.\u001b[39;49m\u001b[43mjoin\u001b[49m\u001b[43m(\u001b[49m\u001b[43m)\u001b[49m\n\u001b[1;32m    666\u001b[0m \u001b[38;5;28mself\u001b[39m\u001b[38;5;241m.\u001b[39m_task_handler\u001b[38;5;241m.\u001b[39mjoin()\n\u001b[1;32m    667\u001b[0m \u001b[38;5;28mself\u001b[39m\u001b[38;5;241m.\u001b[39m_result_handler\u001b[38;5;241m.\u001b[39mjoin()\n",
      "File \u001b[0;32m/usr/lib/python3.12/threading.py:1147\u001b[0m, in \u001b[0;36mThread.join\u001b[0;34m(self, timeout)\u001b[0m\n\u001b[1;32m   1144\u001b[0m     \u001b[38;5;28;01mraise\u001b[39;00m \u001b[38;5;167;01mRuntimeError\u001b[39;00m(\u001b[38;5;124m\"\u001b[39m\u001b[38;5;124mcannot join current thread\u001b[39m\u001b[38;5;124m\"\u001b[39m)\n\u001b[1;32m   1146\u001b[0m \u001b[38;5;28;01mif\u001b[39;00m timeout \u001b[38;5;129;01mis\u001b[39;00m \u001b[38;5;28;01mNone\u001b[39;00m:\n\u001b[0;32m-> 1147\u001b[0m     \u001b[38;5;28;43mself\u001b[39;49m\u001b[38;5;241;43m.\u001b[39;49m\u001b[43m_wait_for_tstate_lock\u001b[49m\u001b[43m(\u001b[49m\u001b[43m)\u001b[49m\n\u001b[1;32m   1148\u001b[0m \u001b[38;5;28;01melse\u001b[39;00m:\n\u001b[1;32m   1149\u001b[0m     \u001b[38;5;66;03m# the behavior of a negative timeout isn't documented, but\u001b[39;00m\n\u001b[1;32m   1150\u001b[0m     \u001b[38;5;66;03m# historically .join(timeout=x) for x<0 has acted as if timeout=0\u001b[39;00m\n\u001b[1;32m   1151\u001b[0m     \u001b[38;5;28mself\u001b[39m\u001b[38;5;241m.\u001b[39m_wait_for_tstate_lock(timeout\u001b[38;5;241m=\u001b[39m\u001b[38;5;28mmax\u001b[39m(timeout, \u001b[38;5;241m0\u001b[39m))\n",
      "File \u001b[0;32m/usr/lib/python3.12/threading.py:1167\u001b[0m, in \u001b[0;36mThread._wait_for_tstate_lock\u001b[0;34m(self, block, timeout)\u001b[0m\n\u001b[1;32m   1164\u001b[0m     \u001b[38;5;28;01mreturn\u001b[39;00m\n\u001b[1;32m   1166\u001b[0m \u001b[38;5;28;01mtry\u001b[39;00m:\n\u001b[0;32m-> 1167\u001b[0m     \u001b[38;5;28;01mif\u001b[39;00m \u001b[43mlock\u001b[49m\u001b[38;5;241;43m.\u001b[39;49m\u001b[43macquire\u001b[49m\u001b[43m(\u001b[49m\u001b[43mblock\u001b[49m\u001b[43m,\u001b[49m\u001b[43m \u001b[49m\u001b[43mtimeout\u001b[49m\u001b[43m)\u001b[49m:\n\u001b[1;32m   1168\u001b[0m         lock\u001b[38;5;241m.\u001b[39mrelease()\n\u001b[1;32m   1169\u001b[0m         \u001b[38;5;28mself\u001b[39m\u001b[38;5;241m.\u001b[39m_stop()\n",
      "\u001b[0;31mKeyboardInterrupt\u001b[0m: "
     ]
    }
   ],
   "source": [
    "algorithms_to_evaluate = ['rm', 'dm', 'audsley', 'edf', 'rr']\n",
    "\n",
    "# 'by_tasks' or 'by_utilization'\n",
    "# task_set_type_choice = 'by_utilization'\n",
    "task_set_type_choice = 'by_tasks'\n",
    "\n",
    "analyze_scheduling_algorithms(\n",
    "    algorithms=algorithms_to_evaluate,\n",
    "    task_set_type=task_set_type_choice,\n",
    "    verbose=False,\n",
    "    force_simulation=False\n",
    ")"
   ]
  },
  {
   "cell_type": "code",
   "execution_count": null,
   "id": "0831fee5-82c7-48d5-93bb-2476ec9fc7bc",
   "metadata": {},
   "outputs": [],
   "source": []
  },
  {
   "cell_type": "code",
   "execution_count": null,
   "id": "032e3c9a-0374-46c9-978f-28b5e38ba5f1",
   "metadata": {},
   "outputs": [],
   "source": []
  }
 ],
 "metadata": {
  "kernelspec": {
   "display_name": "Python (Learning Dynamics Env)",
   "language": "python",
   "name": "learning_dynamics_env"
  },
  "language_info": {
   "codemirror_mode": {
    "name": "ipython",
    "version": 3
   },
   "file_extension": ".py",
   "mimetype": "text/x-python",
   "name": "python",
   "nbconvert_exporter": "python",
   "pygments_lexer": "ipython3",
   "version": "3.12.3"
  }
 },
 "nbformat": 4,
 "nbformat_minor": 5
}
